{
 "cells": [
  {
   "cell_type": "code",
   "execution_count": 1,
   "metadata": {},
   "outputs": [
    {
     "name": "stderr",
     "output_type": "stream",
     "text": [
      "Using TensorFlow backend.\n",
      "/anaconda3/lib/python3.5/importlib/_bootstrap.py:222: RuntimeWarning: compiletime version 3.6 of module 'tensorflow.python.framework.fast_tensor_util' does not match runtime version 3.5\n",
      "  return f(*args, **kwds)\n"
     ]
    }
   ],
   "source": [
    "import keras\n",
    "\n",
    "from keras.datasets import fashion_mnist\n",
    "\n",
    "from keras.models import Sequential\n",
    "from keras.layers import Dense, Dropout, Flatten\n",
    "from keras.layers import Conv2D, MaxPooling2D\n",
    "\n",
    "from keras import backend as K\n",
    "\n",
    "\n",
    "import matplotlib.pyplot as plt\n",
    "%matplotlib inline\n",
    "import numpy as np\n",
    "import pandas as pd"
   ]
  },
  {
   "cell_type": "code",
   "execution_count": 2,
   "metadata": {},
   "outputs": [],
   "source": [
    "batch_size = 256     # 64, 256?\n",
    "\n",
    "num_classes = 10\n",
    "\n",
    "epochs = 15         # due to large amount of execution time\n",
    "\n",
    "# input image dimensions:\n",
    "\n",
    "img_rows, img_cols = 32, 28"
   ]
  },
  {
   "cell_type": "code",
   "execution_count": 3,
   "metadata": {},
   "outputs": [],
   "source": [
    "(x_train, y_train), (x_test, y_test) = fashion_mnist.load_data()\n"
   ]
  },
  {
   "cell_type": "code",
   "execution_count": 4,
   "metadata": {},
   "outputs": [
    {
     "data": {
      "text/plain": [
       "9"
      ]
     },
     "execution_count": 4,
     "metadata": {},
     "output_type": "execute_result"
    }
   ],
   "source": [
    "x_train[0]\n",
    "y_train[0]"
   ]
  },
  {
   "cell_type": "code",
   "execution_count": 5,
   "metadata": {},
   "outputs": [],
   "source": [
    "#x_train=x_train.flatten()"
   ]
  },
  {
   "cell_type": "code",
   "execution_count": 6,
   "metadata": {},
   "outputs": [
    {
     "data": {
      "text/plain": [
       "(60000, 28, 28)"
      ]
     },
     "execution_count": 6,
     "metadata": {},
     "output_type": "execute_result"
    }
   ],
   "source": [
    "x_train.shape"
   ]
  },
  {
   "cell_type": "code",
   "execution_count": 7,
   "metadata": {},
   "outputs": [
    {
     "data": {
      "text/plain": [
       "array([[0, 0, 0, ..., 0, 0, 0],\n",
       "       [0, 0, 0, ..., 0, 0, 0],\n",
       "       [0, 0, 0, ..., 0, 0, 0],\n",
       "       ...,\n",
       "       [0, 0, 0, ..., 0, 0, 0],\n",
       "       [0, 0, 0, ..., 0, 0, 0],\n",
       "       [0, 0, 0, ..., 0, 0, 0]], dtype=uint8)"
      ]
     },
     "execution_count": 7,
     "metadata": {},
     "output_type": "execute_result"
    }
   ],
   "source": [
    "x_train.reshape(60000,784)"
   ]
  },
  {
   "cell_type": "code",
   "execution_count": 8,
   "metadata": {},
   "outputs": [
    {
     "data": {
      "text/plain": [
       "(60000, 784)"
      ]
     },
     "execution_count": 8,
     "metadata": {},
     "output_type": "execute_result"
    }
   ],
   "source": [
    "x_test=x_test.reshape(10000,784)\n",
    "x_test.shape\n",
    "x_train=x_train.reshape(60000,784)\n",
    "x_train.shape"
   ]
  },
  {
   "cell_type": "code",
   "execution_count": 9,
   "metadata": {},
   "outputs": [
    {
     "data": {
      "text/plain": [
       "9"
      ]
     },
     "execution_count": 9,
     "metadata": {},
     "output_type": "execute_result"
    }
   ],
   "source": [
    "x_train[0]\n",
    "y_train[0]"
   ]
  },
  {
   "cell_type": "code",
   "execution_count": null,
   "metadata": {},
   "outputs": [],
   "source": []
  },
  {
   "cell_type": "code",
   "execution_count": 10,
   "metadata": {},
   "outputs": [],
   "source": [
    "labels = { 0: 'T-shirt/top', 1: 'Trouser', 2: 'Pullover', 3: 'Dress', 4: 'Coat', \\\n",
    "           5: 'Sandal', 6: 'Shirt', 7: 'Sneaker', 8: 'Bag' , 9: 'Ankle boot'}"
   ]
  },
  {
   "cell_type": "code",
   "execution_count": 11,
   "metadata": {},
   "outputs": [],
   "source": [
    "\n",
    "train_df=pd.DataFrame(x_train)\n",
    "#train_df.head()\n",
    "test_df=pd.DataFrame(x_test)\n",
    "#train_df.tail()"
   ]
  },
  {
   "cell_type": "code",
   "execution_count": 12,
   "metadata": {},
   "outputs": [],
   "source": [
    "train_df.to_csv('train.csv')\n",
    "test_df.to_csv('test.csv')"
   ]
  },
  {
   "cell_type": "code",
   "execution_count": 13,
   "metadata": {
    "scrolled": false
   },
   "outputs": [],
   "source": [
    "df_train = spark.read.format(\"com.databricks.spark.csv\").option(\"header\",\"true\").load(\"train.csv\")\n",
    "df_train=df_train.drop('_c0')"
   ]
  },
  {
   "cell_type": "code",
   "execution_count": 14,
   "metadata": {},
   "outputs": [],
   "source": [
    "for i in range(0,784):\n",
    "    y=str(i)\n",
    "    df_train=df_train.withColumn(y, df_train[y].cast('int'))\n"
   ]
  },
  {
   "cell_type": "code",
   "execution_count": 15,
   "metadata": {},
   "outputs": [],
   "source": [
    "from pyspark.ml.feature import VectorAssembler"
   ]
  },
  {
   "cell_type": "code",
   "execution_count": 16,
   "metadata": {},
   "outputs": [],
   "source": [
    "cols_train = list(set(df_train.columns))\n",
    "assembler_train = VectorAssembler(\n",
    "    inputCols=cols_train,\n",
    "    outputCol=\"vector\")"
   ]
  },
  {
   "cell_type": "code",
   "execution_count": 17,
   "metadata": {},
   "outputs": [],
   "source": [
    "output_train = assembler_train.transform(df_train)"
   ]
  },
  {
   "cell_type": "code",
   "execution_count": 18,
   "metadata": {},
   "outputs": [],
   "source": [
    "from pyspark.ml.clustering import KMeans"
   ]
  },
  {
   "cell_type": "code",
   "execution_count": 19,
   "metadata": {},
   "outputs": [
    {
     "name": "stdout",
     "output_type": "stream",
     "text": [
      "CPU times: user 24.4 ms, sys: 6.95 ms, total: 31.3 ms\n",
      "Wall time: 52.1 s\n"
     ]
    }
   ],
   "source": [
    "%%time\n",
    "kmeans = KMeans(k=10, featuresCol=\"vector\",predictionCol=\"cluster\")\n",
    "model = kmeans.fit(output_train)\n",
    "model_train = model.transform(output_train)\n"
   ]
  },
  {
   "cell_type": "code",
   "execution_count": 20,
   "metadata": {},
   "outputs": [],
   "source": [
    "model_train.createOrReplaceTempView(\"adding_train\")"
   ]
  },
  {
   "cell_type": "code",
   "execution_count": 21,
   "metadata": {},
   "outputs": [],
   "source": [
    "model_train = spark.sql(\"select *, CASE WHEN cluster=0 THEN cluster+25 WHEN cluster=1 THEN cluster+50 WHEN cluster=2 THEN cluster+75 WHEN cluster=3 THEN cluster+100 WHEN cluster=4 THEN cluster+125 WHEN cluster=5 THEN cluster+150 WHEN cluster=6 THEN cluster+175 WHEN cluster=7 THEN cluster+200 WHEN cluster=8 THEN cluster+225 WHEN cluster=9 THEN cluster+250 END cluster_1 from adding_train \")"
   ]
  },
  {
   "cell_type": "code",
   "execution_count": 22,
   "metadata": {},
   "outputs": [],
   "source": [
    "model_train = model_train.drop(\"cluster\")"
   ]
  },
  {
   "cell_type": "code",
   "execution_count": 23,
   "metadata": {},
   "outputs": [
    {
     "name": "stdout",
     "output_type": "stream",
     "text": [
      "root\n",
      " |-- 0: integer (nullable = true)\n",
      " |-- 1: integer (nullable = true)\n",
      " |-- 2: integer (nullable = true)\n",
      " |-- 3: integer (nullable = true)\n",
      " |-- 4: integer (nullable = true)\n",
      " |-- 5: integer (nullable = true)\n",
      " |-- 6: integer (nullable = true)\n",
      " |-- 7: integer (nullable = true)\n",
      " |-- 8: integer (nullable = true)\n",
      " |-- 9: integer (nullable = true)\n",
      " |-- 10: integer (nullable = true)\n",
      " |-- 11: integer (nullable = true)\n",
      " |-- 12: integer (nullable = true)\n",
      " |-- 13: integer (nullable = true)\n",
      " |-- 14: integer (nullable = true)\n",
      " |-- 15: integer (nullable = true)\n",
      " |-- 16: integer (nullable = true)\n",
      " |-- 17: integer (nullable = true)\n",
      " |-- 18: integer (nullable = true)\n",
      " |-- 19: integer (nullable = true)\n",
      " |-- 20: integer (nullable = true)\n",
      " |-- 21: integer (nullable = true)\n",
      " |-- 22: integer (nullable = true)\n",
      " |-- 23: integer (nullable = true)\n",
      " |-- 24: integer (nullable = true)\n",
      " |-- 25: integer (nullable = true)\n",
      " |-- 26: integer (nullable = true)\n",
      " |-- 27: integer (nullable = true)\n",
      " |-- 28: integer (nullable = true)\n",
      " |-- 29: integer (nullable = true)\n",
      " |-- 30: integer (nullable = true)\n",
      " |-- 31: integer (nullable = true)\n",
      " |-- 32: integer (nullable = true)\n",
      " |-- 33: integer (nullable = true)\n",
      " |-- 34: integer (nullable = true)\n",
      " |-- 35: integer (nullable = true)\n",
      " |-- 36: integer (nullable = true)\n",
      " |-- 37: integer (nullable = true)\n",
      " |-- 38: integer (nullable = true)\n",
      " |-- 39: integer (nullable = true)\n",
      " |-- 40: integer (nullable = true)\n",
      " |-- 41: integer (nullable = true)\n",
      " |-- 42: integer (nullable = true)\n",
      " |-- 43: integer (nullable = true)\n",
      " |-- 44: integer (nullable = true)\n",
      " |-- 45: integer (nullable = true)\n",
      " |-- 46: integer (nullable = true)\n",
      " |-- 47: integer (nullable = true)\n",
      " |-- 48: integer (nullable = true)\n",
      " |-- 49: integer (nullable = true)\n",
      " |-- 50: integer (nullable = true)\n",
      " |-- 51: integer (nullable = true)\n",
      " |-- 52: integer (nullable = true)\n",
      " |-- 53: integer (nullable = true)\n",
      " |-- 54: integer (nullable = true)\n",
      " |-- 55: integer (nullable = true)\n",
      " |-- 56: integer (nullable = true)\n",
      " |-- 57: integer (nullable = true)\n",
      " |-- 58: integer (nullable = true)\n",
      " |-- 59: integer (nullable = true)\n",
      " |-- 60: integer (nullable = true)\n",
      " |-- 61: integer (nullable = true)\n",
      " |-- 62: integer (nullable = true)\n",
      " |-- 63: integer (nullable = true)\n",
      " |-- 64: integer (nullable = true)\n",
      " |-- 65: integer (nullable = true)\n",
      " |-- 66: integer (nullable = true)\n",
      " |-- 67: integer (nullable = true)\n",
      " |-- 68: integer (nullable = true)\n",
      " |-- 69: integer (nullable = true)\n",
      " |-- 70: integer (nullable = true)\n",
      " |-- 71: integer (nullable = true)\n",
      " |-- 72: integer (nullable = true)\n",
      " |-- 73: integer (nullable = true)\n",
      " |-- 74: integer (nullable = true)\n",
      " |-- 75: integer (nullable = true)\n",
      " |-- 76: integer (nullable = true)\n",
      " |-- 77: integer (nullable = true)\n",
      " |-- 78: integer (nullable = true)\n",
      " |-- 79: integer (nullable = true)\n",
      " |-- 80: integer (nullable = true)\n",
      " |-- 81: integer (nullable = true)\n",
      " |-- 82: integer (nullable = true)\n",
      " |-- 83: integer (nullable = true)\n",
      " |-- 84: integer (nullable = true)\n",
      " |-- 85: integer (nullable = true)\n",
      " |-- 86: integer (nullable = true)\n",
      " |-- 87: integer (nullable = true)\n",
      " |-- 88: integer (nullable = true)\n",
      " |-- 89: integer (nullable = true)\n",
      " |-- 90: integer (nullable = true)\n",
      " |-- 91: integer (nullable = true)\n",
      " |-- 92: integer (nullable = true)\n",
      " |-- 93: integer (nullable = true)\n",
      " |-- 94: integer (nullable = true)\n",
      " |-- 95: integer (nullable = true)\n",
      " |-- 96: integer (nullable = true)\n",
      " |-- 97: integer (nullable = true)\n",
      " |-- 98: integer (nullable = true)\n",
      " |-- 99: integer (nullable = true)\n",
      " |-- 100: integer (nullable = true)\n",
      " |-- 101: integer (nullable = true)\n",
      " |-- 102: integer (nullable = true)\n",
      " |-- 103: integer (nullable = true)\n",
      " |-- 104: integer (nullable = true)\n",
      " |-- 105: integer (nullable = true)\n",
      " |-- 106: integer (nullable = true)\n",
      " |-- 107: integer (nullable = true)\n",
      " |-- 108: integer (nullable = true)\n",
      " |-- 109: integer (nullable = true)\n",
      " |-- 110: integer (nullable = true)\n",
      " |-- 111: integer (nullable = true)\n",
      " |-- 112: integer (nullable = true)\n",
      " |-- 113: integer (nullable = true)\n",
      " |-- 114: integer (nullable = true)\n",
      " |-- 115: integer (nullable = true)\n",
      " |-- 116: integer (nullable = true)\n",
      " |-- 117: integer (nullable = true)\n",
      " |-- 118: integer (nullable = true)\n",
      " |-- 119: integer (nullable = true)\n",
      " |-- 120: integer (nullable = true)\n",
      " |-- 121: integer (nullable = true)\n",
      " |-- 122: integer (nullable = true)\n",
      " |-- 123: integer (nullable = true)\n",
      " |-- 124: integer (nullable = true)\n",
      " |-- 125: integer (nullable = true)\n",
      " |-- 126: integer (nullable = true)\n",
      " |-- 127: integer (nullable = true)\n",
      " |-- 128: integer (nullable = true)\n",
      " |-- 129: integer (nullable = true)\n",
      " |-- 130: integer (nullable = true)\n",
      " |-- 131: integer (nullable = true)\n",
      " |-- 132: integer (nullable = true)\n",
      " |-- 133: integer (nullable = true)\n",
      " |-- 134: integer (nullable = true)\n",
      " |-- 135: integer (nullable = true)\n",
      " |-- 136: integer (nullable = true)\n",
      " |-- 137: integer (nullable = true)\n",
      " |-- 138: integer (nullable = true)\n",
      " |-- 139: integer (nullable = true)\n",
      " |-- 140: integer (nullable = true)\n",
      " |-- 141: integer (nullable = true)\n",
      " |-- 142: integer (nullable = true)\n",
      " |-- 143: integer (nullable = true)\n",
      " |-- 144: integer (nullable = true)\n",
      " |-- 145: integer (nullable = true)\n",
      " |-- 146: integer (nullable = true)\n",
      " |-- 147: integer (nullable = true)\n",
      " |-- 148: integer (nullable = true)\n",
      " |-- 149: integer (nullable = true)\n",
      " |-- 150: integer (nullable = true)\n",
      " |-- 151: integer (nullable = true)\n",
      " |-- 152: integer (nullable = true)\n",
      " |-- 153: integer (nullable = true)\n",
      " |-- 154: integer (nullable = true)\n",
      " |-- 155: integer (nullable = true)\n",
      " |-- 156: integer (nullable = true)\n",
      " |-- 157: integer (nullable = true)\n",
      " |-- 158: integer (nullable = true)\n",
      " |-- 159: integer (nullable = true)\n",
      " |-- 160: integer (nullable = true)\n",
      " |-- 161: integer (nullable = true)\n",
      " |-- 162: integer (nullable = true)\n",
      " |-- 163: integer (nullable = true)\n",
      " |-- 164: integer (nullable = true)\n",
      " |-- 165: integer (nullable = true)\n",
      " |-- 166: integer (nullable = true)\n",
      " |-- 167: integer (nullable = true)\n",
      " |-- 168: integer (nullable = true)\n",
      " |-- 169: integer (nullable = true)\n",
      " |-- 170: integer (nullable = true)\n",
      " |-- 171: integer (nullable = true)\n",
      " |-- 172: integer (nullable = true)\n",
      " |-- 173: integer (nullable = true)\n",
      " |-- 174: integer (nullable = true)\n",
      " |-- 175: integer (nullable = true)\n",
      " |-- 176: integer (nullable = true)\n",
      " |-- 177: integer (nullable = true)\n",
      " |-- 178: integer (nullable = true)\n",
      " |-- 179: integer (nullable = true)\n",
      " |-- 180: integer (nullable = true)\n",
      " |-- 181: integer (nullable = true)\n",
      " |-- 182: integer (nullable = true)\n",
      " |-- 183: integer (nullable = true)\n",
      " |-- 184: integer (nullable = true)\n",
      " |-- 185: integer (nullable = true)\n",
      " |-- 186: integer (nullable = true)\n",
      " |-- 187: integer (nullable = true)\n",
      " |-- 188: integer (nullable = true)\n",
      " |-- 189: integer (nullable = true)\n",
      " |-- 190: integer (nullable = true)\n",
      " |-- 191: integer (nullable = true)\n",
      " |-- 192: integer (nullable = true)\n",
      " |-- 193: integer (nullable = true)\n",
      " |-- 194: integer (nullable = true)\n",
      " |-- 195: integer (nullable = true)\n",
      " |-- 196: integer (nullable = true)\n",
      " |-- 197: integer (nullable = true)\n",
      " |-- 198: integer (nullable = true)\n",
      " |-- 199: integer (nullable = true)\n",
      " |-- 200: integer (nullable = true)\n",
      " |-- 201: integer (nullable = true)\n",
      " |-- 202: integer (nullable = true)\n",
      " |-- 203: integer (nullable = true)\n",
      " |-- 204: integer (nullable = true)\n",
      " |-- 205: integer (nullable = true)\n",
      " |-- 206: integer (nullable = true)\n",
      " |-- 207: integer (nullable = true)\n",
      " |-- 208: integer (nullable = true)\n",
      " |-- 209: integer (nullable = true)\n",
      " |-- 210: integer (nullable = true)\n",
      " |-- 211: integer (nullable = true)\n",
      " |-- 212: integer (nullable = true)\n",
      " |-- 213: integer (nullable = true)\n",
      " |-- 214: integer (nullable = true)\n",
      " |-- 215: integer (nullable = true)\n",
      " |-- 216: integer (nullable = true)\n",
      " |-- 217: integer (nullable = true)\n",
      " |-- 218: integer (nullable = true)\n",
      " |-- 219: integer (nullable = true)\n",
      " |-- 220: integer (nullable = true)\n",
      " |-- 221: integer (nullable = true)\n",
      " |-- 222: integer (nullable = true)\n",
      " |-- 223: integer (nullable = true)\n",
      " |-- 224: integer (nullable = true)\n",
      " |-- 225: integer (nullable = true)\n",
      " |-- 226: integer (nullable = true)\n",
      " |-- 227: integer (nullable = true)\n",
      " |-- 228: integer (nullable = true)\n",
      " |-- 229: integer (nullable = true)\n",
      " |-- 230: integer (nullable = true)\n",
      " |-- 231: integer (nullable = true)\n",
      " |-- 232: integer (nullable = true)\n",
      " |-- 233: integer (nullable = true)\n",
      " |-- 234: integer (nullable = true)\n",
      " |-- 235: integer (nullable = true)\n",
      " |-- 236: integer (nullable = true)\n",
      " |-- 237: integer (nullable = true)\n",
      " |-- 238: integer (nullable = true)\n",
      " |-- 239: integer (nullable = true)\n",
      " |-- 240: integer (nullable = true)\n",
      " |-- 241: integer (nullable = true)\n",
      " |-- 242: integer (nullable = true)\n",
      " |-- 243: integer (nullable = true)\n",
      " |-- 244: integer (nullable = true)\n",
      " |-- 245: integer (nullable = true)\n",
      " |-- 246: integer (nullable = true)\n",
      " |-- 247: integer (nullable = true)\n",
      " |-- 248: integer (nullable = true)\n",
      " |-- 249: integer (nullable = true)\n",
      " |-- 250: integer (nullable = true)\n",
      " |-- 251: integer (nullable = true)\n",
      " |-- 252: integer (nullable = true)\n",
      " |-- 253: integer (nullable = true)\n",
      " |-- 254: integer (nullable = true)\n",
      " |-- 255: integer (nullable = true)\n",
      " |-- 256: integer (nullable = true)\n",
      " |-- 257: integer (nullable = true)\n",
      " |-- 258: integer (nullable = true)\n",
      " |-- 259: integer (nullable = true)\n",
      " |-- 260: integer (nullable = true)\n",
      " |-- 261: integer (nullable = true)\n",
      " |-- 262: integer (nullable = true)\n",
      " |-- 263: integer (nullable = true)\n",
      " |-- 264: integer (nullable = true)\n",
      " |-- 265: integer (nullable = true)\n",
      " |-- 266: integer (nullable = true)\n",
      " |-- 267: integer (nullable = true)\n",
      " |-- 268: integer (nullable = true)\n",
      " |-- 269: integer (nullable = true)\n",
      " |-- 270: integer (nullable = true)\n",
      " |-- 271: integer (nullable = true)\n",
      " |-- 272: integer (nullable = true)\n",
      " |-- 273: integer (nullable = true)\n",
      " |-- 274: integer (nullable = true)\n",
      " |-- 275: integer (nullable = true)\n",
      " |-- 276: integer (nullable = true)\n",
      " |-- 277: integer (nullable = true)\n",
      " |-- 278: integer (nullable = true)\n",
      " |-- 279: integer (nullable = true)\n",
      " |-- 280: integer (nullable = true)\n",
      " |-- 281: integer (nullable = true)\n",
      " |-- 282: integer (nullable = true)\n",
      " |-- 283: integer (nullable = true)\n",
      " |-- 284: integer (nullable = true)\n",
      " |-- 285: integer (nullable = true)\n",
      " |-- 286: integer (nullable = true)\n",
      " |-- 287: integer (nullable = true)\n",
      " |-- 288: integer (nullable = true)\n",
      " |-- 289: integer (nullable = true)\n",
      " |-- 290: integer (nullable = true)\n",
      " |-- 291: integer (nullable = true)\n",
      " |-- 292: integer (nullable = true)\n",
      " |-- 293: integer (nullable = true)\n",
      " |-- 294: integer (nullable = true)\n",
      " |-- 295: integer (nullable = true)\n",
      " |-- 296: integer (nullable = true)\n",
      " |-- 297: integer (nullable = true)\n",
      " |-- 298: integer (nullable = true)\n",
      " |-- 299: integer (nullable = true)\n",
      " |-- 300: integer (nullable = true)\n",
      " |-- 301: integer (nullable = true)\n",
      " |-- 302: integer (nullable = true)\n",
      " |-- 303: integer (nullable = true)\n",
      " |-- 304: integer (nullable = true)\n",
      " |-- 305: integer (nullable = true)\n",
      " |-- 306: integer (nullable = true)\n",
      " |-- 307: integer (nullable = true)\n",
      " |-- 308: integer (nullable = true)\n",
      " |-- 309: integer (nullable = true)\n",
      " |-- 310: integer (nullable = true)\n",
      " |-- 311: integer (nullable = true)\n",
      " |-- 312: integer (nullable = true)\n",
      " |-- 313: integer (nullable = true)\n",
      " |-- 314: integer (nullable = true)\n",
      " |-- 315: integer (nullable = true)\n",
      " |-- 316: integer (nullable = true)\n",
      " |-- 317: integer (nullable = true)\n",
      " |-- 318: integer (nullable = true)\n",
      " |-- 319: integer (nullable = true)\n",
      " |-- 320: integer (nullable = true)\n",
      " |-- 321: integer (nullable = true)\n",
      " |-- 322: integer (nullable = true)\n",
      " |-- 323: integer (nullable = true)\n",
      " |-- 324: integer (nullable = true)\n",
      " |-- 325: integer (nullable = true)\n",
      " |-- 326: integer (nullable = true)\n",
      " |-- 327: integer (nullable = true)\n",
      " |-- 328: integer (nullable = true)\n",
      " |-- 329: integer (nullable = true)\n",
      " |-- 330: integer (nullable = true)\n",
      " |-- 331: integer (nullable = true)\n",
      " |-- 332: integer (nullable = true)\n",
      " |-- 333: integer (nullable = true)\n",
      " |-- 334: integer (nullable = true)\n",
      " |-- 335: integer (nullable = true)\n",
      " |-- 336: integer (nullable = true)\n",
      " |-- 337: integer (nullable = true)\n",
      " |-- 338: integer (nullable = true)\n",
      " |-- 339: integer (nullable = true)\n",
      " |-- 340: integer (nullable = true)\n",
      " |-- 341: integer (nullable = true)\n",
      " |-- 342: integer (nullable = true)\n",
      " |-- 343: integer (nullable = true)\n",
      " |-- 344: integer (nullable = true)\n",
      " |-- 345: integer (nullable = true)\n",
      " |-- 346: integer (nullable = true)\n",
      " |-- 347: integer (nullable = true)\n",
      " |-- 348: integer (nullable = true)\n",
      " |-- 349: integer (nullable = true)\n",
      " |-- 350: integer (nullable = true)\n",
      " |-- 351: integer (nullable = true)\n",
      " |-- 352: integer (nullable = true)\n",
      " |-- 353: integer (nullable = true)\n",
      " |-- 354: integer (nullable = true)\n",
      " |-- 355: integer (nullable = true)\n",
      " |-- 356: integer (nullable = true)\n",
      " |-- 357: integer (nullable = true)\n",
      " |-- 358: integer (nullable = true)\n",
      " |-- 359: integer (nullable = true)\n",
      " |-- 360: integer (nullable = true)\n",
      " |-- 361: integer (nullable = true)\n",
      " |-- 362: integer (nullable = true)\n",
      " |-- 363: integer (nullable = true)\n",
      " |-- 364: integer (nullable = true)\n",
      " |-- 365: integer (nullable = true)\n",
      " |-- 366: integer (nullable = true)\n",
      " |-- 367: integer (nullable = true)\n",
      " |-- 368: integer (nullable = true)\n",
      " |-- 369: integer (nullable = true)\n",
      " |-- 370: integer (nullable = true)\n",
      " |-- 371: integer (nullable = true)\n",
      " |-- 372: integer (nullable = true)\n",
      " |-- 373: integer (nullable = true)\n",
      " |-- 374: integer (nullable = true)\n",
      " |-- 375: integer (nullable = true)\n",
      " |-- 376: integer (nullable = true)\n",
      " |-- 377: integer (nullable = true)\n",
      " |-- 378: integer (nullable = true)\n",
      " |-- 379: integer (nullable = true)\n",
      " |-- 380: integer (nullable = true)\n",
      " |-- 381: integer (nullable = true)\n",
      " |-- 382: integer (nullable = true)\n",
      " |-- 383: integer (nullable = true)\n",
      " |-- 384: integer (nullable = true)\n",
      " |-- 385: integer (nullable = true)\n",
      " |-- 386: integer (nullable = true)\n",
      " |-- 387: integer (nullable = true)\n",
      " |-- 388: integer (nullable = true)\n",
      " |-- 389: integer (nullable = true)\n",
      " |-- 390: integer (nullable = true)\n",
      " |-- 391: integer (nullable = true)\n",
      " |-- 392: integer (nullable = true)\n",
      " |-- 393: integer (nullable = true)\n",
      " |-- 394: integer (nullable = true)\n",
      " |-- 395: integer (nullable = true)\n",
      " |-- 396: integer (nullable = true)\n",
      " |-- 397: integer (nullable = true)\n",
      " |-- 398: integer (nullable = true)\n",
      " |-- 399: integer (nullable = true)\n",
      " |-- 400: integer (nullable = true)\n",
      " |-- 401: integer (nullable = true)\n",
      " |-- 402: integer (nullable = true)\n",
      " |-- 403: integer (nullable = true)\n",
      " |-- 404: integer (nullable = true)\n",
      " |-- 405: integer (nullable = true)\n",
      " |-- 406: integer (nullable = true)\n",
      " |-- 407: integer (nullable = true)\n",
      " |-- 408: integer (nullable = true)\n",
      " |-- 409: integer (nullable = true)\n",
      " |-- 410: integer (nullable = true)\n",
      " |-- 411: integer (nullable = true)\n",
      " |-- 412: integer (nullable = true)\n",
      " |-- 413: integer (nullable = true)\n",
      " |-- 414: integer (nullable = true)\n",
      " |-- 415: integer (nullable = true)\n",
      " |-- 416: integer (nullable = true)\n",
      " |-- 417: integer (nullable = true)\n",
      " |-- 418: integer (nullable = true)\n",
      " |-- 419: integer (nullable = true)\n",
      " |-- 420: integer (nullable = true)\n",
      " |-- 421: integer (nullable = true)\n",
      " |-- 422: integer (nullable = true)\n",
      " |-- 423: integer (nullable = true)\n",
      " |-- 424: integer (nullable = true)\n",
      " |-- 425: integer (nullable = true)\n",
      " |-- 426: integer (nullable = true)\n",
      " |-- 427: integer (nullable = true)\n",
      " |-- 428: integer (nullable = true)\n",
      " |-- 429: integer (nullable = true)\n",
      " |-- 430: integer (nullable = true)\n",
      " |-- 431: integer (nullable = true)\n",
      " |-- 432: integer (nullable = true)\n",
      " |-- 433: integer (nullable = true)\n",
      " |-- 434: integer (nullable = true)\n",
      " |-- 435: integer (nullable = true)\n",
      " |-- 436: integer (nullable = true)\n",
      " |-- 437: integer (nullable = true)\n",
      " |-- 438: integer (nullable = true)\n",
      " |-- 439: integer (nullable = true)\n",
      " |-- 440: integer (nullable = true)\n",
      " |-- 441: integer (nullable = true)\n",
      " |-- 442: integer (nullable = true)\n",
      " |-- 443: integer (nullable = true)\n",
      " |-- 444: integer (nullable = true)\n",
      " |-- 445: integer (nullable = true)\n",
      " |-- 446: integer (nullable = true)\n",
      " |-- 447: integer (nullable = true)\n",
      " |-- 448: integer (nullable = true)\n",
      " |-- 449: integer (nullable = true)\n",
      " |-- 450: integer (nullable = true)\n",
      " |-- 451: integer (nullable = true)\n",
      " |-- 452: integer (nullable = true)\n",
      " |-- 453: integer (nullable = true)\n",
      " |-- 454: integer (nullable = true)\n",
      " |-- 455: integer (nullable = true)\n",
      " |-- 456: integer (nullable = true)\n",
      " |-- 457: integer (nullable = true)\n",
      " |-- 458: integer (nullable = true)\n",
      " |-- 459: integer (nullable = true)\n",
      " |-- 460: integer (nullable = true)\n",
      " |-- 461: integer (nullable = true)\n",
      " |-- 462: integer (nullable = true)\n",
      " |-- 463: integer (nullable = true)\n",
      " |-- 464: integer (nullable = true)\n",
      " |-- 465: integer (nullable = true)\n",
      " |-- 466: integer (nullable = true)\n",
      " |-- 467: integer (nullable = true)\n",
      " |-- 468: integer (nullable = true)\n",
      " |-- 469: integer (nullable = true)\n",
      " |-- 470: integer (nullable = true)\n",
      " |-- 471: integer (nullable = true)\n",
      " |-- 472: integer (nullable = true)\n",
      " |-- 473: integer (nullable = true)\n",
      " |-- 474: integer (nullable = true)\n",
      " |-- 475: integer (nullable = true)\n",
      " |-- 476: integer (nullable = true)\n",
      " |-- 477: integer (nullable = true)\n",
      " |-- 478: integer (nullable = true)\n",
      " |-- 479: integer (nullable = true)\n",
      " |-- 480: integer (nullable = true)\n",
      " |-- 481: integer (nullable = true)\n",
      " |-- 482: integer (nullable = true)\n",
      " |-- 483: integer (nullable = true)\n",
      " |-- 484: integer (nullable = true)\n",
      " |-- 485: integer (nullable = true)\n",
      " |-- 486: integer (nullable = true)\n",
      " |-- 487: integer (nullable = true)\n",
      " |-- 488: integer (nullable = true)\n",
      " |-- 489: integer (nullable = true)\n",
      " |-- 490: integer (nullable = true)\n",
      " |-- 491: integer (nullable = true)\n",
      " |-- 492: integer (nullable = true)\n",
      " |-- 493: integer (nullable = true)\n",
      " |-- 494: integer (nullable = true)\n",
      " |-- 495: integer (nullable = true)\n",
      " |-- 496: integer (nullable = true)\n",
      " |-- 497: integer (nullable = true)\n",
      " |-- 498: integer (nullable = true)\n",
      " |-- 499: integer (nullable = true)\n",
      " |-- 500: integer (nullable = true)\n",
      " |-- 501: integer (nullable = true)\n",
      " |-- 502: integer (nullable = true)\n",
      " |-- 503: integer (nullable = true)\n",
      " |-- 504: integer (nullable = true)\n",
      " |-- 505: integer (nullable = true)\n",
      " |-- 506: integer (nullable = true)\n",
      " |-- 507: integer (nullable = true)\n",
      " |-- 508: integer (nullable = true)\n",
      " |-- 509: integer (nullable = true)\n",
      " |-- 510: integer (nullable = true)\n",
      " |-- 511: integer (nullable = true)\n",
      " |-- 512: integer (nullable = true)\n",
      " |-- 513: integer (nullable = true)\n",
      " |-- 514: integer (nullable = true)\n",
      " |-- 515: integer (nullable = true)\n",
      " |-- 516: integer (nullable = true)\n",
      " |-- 517: integer (nullable = true)\n",
      " |-- 518: integer (nullable = true)\n",
      " |-- 519: integer (nullable = true)\n",
      " |-- 520: integer (nullable = true)\n",
      " |-- 521: integer (nullable = true)\n",
      " |-- 522: integer (nullable = true)\n",
      " |-- 523: integer (nullable = true)\n",
      " |-- 524: integer (nullable = true)\n",
      " |-- 525: integer (nullable = true)\n",
      " |-- 526: integer (nullable = true)\n",
      " |-- 527: integer (nullable = true)\n",
      " |-- 528: integer (nullable = true)\n",
      " |-- 529: integer (nullable = true)\n",
      " |-- 530: integer (nullable = true)\n",
      " |-- 531: integer (nullable = true)\n",
      " |-- 532: integer (nullable = true)\n",
      " |-- 533: integer (nullable = true)\n",
      " |-- 534: integer (nullable = true)\n",
      " |-- 535: integer (nullable = true)\n",
      " |-- 536: integer (nullable = true)\n",
      " |-- 537: integer (nullable = true)\n",
      " |-- 538: integer (nullable = true)\n",
      " |-- 539: integer (nullable = true)\n",
      " |-- 540: integer (nullable = true)\n",
      " |-- 541: integer (nullable = true)\n",
      " |-- 542: integer (nullable = true)\n",
      " |-- 543: integer (nullable = true)\n",
      " |-- 544: integer (nullable = true)\n",
      " |-- 545: integer (nullable = true)\n",
      " |-- 546: integer (nullable = true)\n",
      " |-- 547: integer (nullable = true)\n",
      " |-- 548: integer (nullable = true)\n",
      " |-- 549: integer (nullable = true)\n",
      " |-- 550: integer (nullable = true)\n",
      " |-- 551: integer (nullable = true)\n",
      " |-- 552: integer (nullable = true)\n",
      " |-- 553: integer (nullable = true)\n",
      " |-- 554: integer (nullable = true)\n",
      " |-- 555: integer (nullable = true)\n",
      " |-- 556: integer (nullable = true)\n",
      " |-- 557: integer (nullable = true)\n",
      " |-- 558: integer (nullable = true)\n",
      " |-- 559: integer (nullable = true)\n",
      " |-- 560: integer (nullable = true)\n",
      " |-- 561: integer (nullable = true)\n",
      " |-- 562: integer (nullable = true)\n",
      " |-- 563: integer (nullable = true)\n",
      " |-- 564: integer (nullable = true)\n",
      " |-- 565: integer (nullable = true)\n",
      " |-- 566: integer (nullable = true)\n",
      " |-- 567: integer (nullable = true)\n",
      " |-- 568: integer (nullable = true)\n",
      " |-- 569: integer (nullable = true)\n",
      " |-- 570: integer (nullable = true)\n",
      " |-- 571: integer (nullable = true)\n",
      " |-- 572: integer (nullable = true)\n",
      " |-- 573: integer (nullable = true)\n",
      " |-- 574: integer (nullable = true)\n",
      " |-- 575: integer (nullable = true)\n",
      " |-- 576: integer (nullable = true)\n",
      " |-- 577: integer (nullable = true)\n",
      " |-- 578: integer (nullable = true)\n",
      " |-- 579: integer (nullable = true)\n",
      " |-- 580: integer (nullable = true)\n",
      " |-- 581: integer (nullable = true)\n",
      " |-- 582: integer (nullable = true)\n",
      " |-- 583: integer (nullable = true)\n",
      " |-- 584: integer (nullable = true)\n",
      " |-- 585: integer (nullable = true)\n",
      " |-- 586: integer (nullable = true)\n",
      " |-- 587: integer (nullable = true)\n",
      " |-- 588: integer (nullable = true)\n",
      " |-- 589: integer (nullable = true)\n",
      " |-- 590: integer (nullable = true)\n",
      " |-- 591: integer (nullable = true)\n",
      " |-- 592: integer (nullable = true)\n",
      " |-- 593: integer (nullable = true)\n",
      " |-- 594: integer (nullable = true)\n",
      " |-- 595: integer (nullable = true)\n",
      " |-- 596: integer (nullable = true)\n",
      " |-- 597: integer (nullable = true)\n",
      " |-- 598: integer (nullable = true)\n",
      " |-- 599: integer (nullable = true)\n",
      " |-- 600: integer (nullable = true)\n",
      " |-- 601: integer (nullable = true)\n",
      " |-- 602: integer (nullable = true)\n",
      " |-- 603: integer (nullable = true)\n",
      " |-- 604: integer (nullable = true)\n",
      " |-- 605: integer (nullable = true)\n",
      " |-- 606: integer (nullable = true)\n",
      " |-- 607: integer (nullable = true)\n",
      " |-- 608: integer (nullable = true)\n",
      " |-- 609: integer (nullable = true)\n",
      " |-- 610: integer (nullable = true)\n",
      " |-- 611: integer (nullable = true)\n",
      " |-- 612: integer (nullable = true)\n",
      " |-- 613: integer (nullable = true)\n",
      " |-- 614: integer (nullable = true)\n",
      " |-- 615: integer (nullable = true)\n",
      " |-- 616: integer (nullable = true)\n",
      " |-- 617: integer (nullable = true)\n",
      " |-- 618: integer (nullable = true)\n",
      " |-- 619: integer (nullable = true)\n",
      " |-- 620: integer (nullable = true)\n",
      " |-- 621: integer (nullable = true)\n",
      " |-- 622: integer (nullable = true)\n",
      " |-- 623: integer (nullable = true)\n",
      " |-- 624: integer (nullable = true)\n",
      " |-- 625: integer (nullable = true)\n",
      " |-- 626: integer (nullable = true)\n",
      " |-- 627: integer (nullable = true)\n",
      " |-- 628: integer (nullable = true)\n",
      " |-- 629: integer (nullable = true)\n",
      " |-- 630: integer (nullable = true)\n",
      " |-- 631: integer (nullable = true)\n",
      " |-- 632: integer (nullable = true)\n",
      " |-- 633: integer (nullable = true)\n",
      " |-- 634: integer (nullable = true)\n",
      " |-- 635: integer (nullable = true)\n",
      " |-- 636: integer (nullable = true)\n",
      " |-- 637: integer (nullable = true)\n",
      " |-- 638: integer (nullable = true)\n",
      " |-- 639: integer (nullable = true)\n",
      " |-- 640: integer (nullable = true)\n",
      " |-- 641: integer (nullable = true)\n",
      " |-- 642: integer (nullable = true)\n",
      " |-- 643: integer (nullable = true)\n",
      " |-- 644: integer (nullable = true)\n",
      " |-- 645: integer (nullable = true)\n",
      " |-- 646: integer (nullable = true)\n",
      " |-- 647: integer (nullable = true)\n",
      " |-- 648: integer (nullable = true)\n",
      " |-- 649: integer (nullable = true)\n",
      " |-- 650: integer (nullable = true)\n",
      " |-- 651: integer (nullable = true)\n",
      " |-- 652: integer (nullable = true)\n",
      " |-- 653: integer (nullable = true)\n",
      " |-- 654: integer (nullable = true)\n",
      " |-- 655: integer (nullable = true)\n",
      " |-- 656: integer (nullable = true)\n",
      " |-- 657: integer (nullable = true)\n",
      " |-- 658: integer (nullable = true)\n",
      " |-- 659: integer (nullable = true)\n",
      " |-- 660: integer (nullable = true)\n",
      " |-- 661: integer (nullable = true)\n",
      " |-- 662: integer (nullable = true)\n",
      " |-- 663: integer (nullable = true)\n",
      " |-- 664: integer (nullable = true)\n",
      " |-- 665: integer (nullable = true)\n",
      " |-- 666: integer (nullable = true)\n",
      " |-- 667: integer (nullable = true)\n",
      " |-- 668: integer (nullable = true)\n",
      " |-- 669: integer (nullable = true)\n",
      " |-- 670: integer (nullable = true)\n",
      " |-- 671: integer (nullable = true)\n",
      " |-- 672: integer (nullable = true)\n",
      " |-- 673: integer (nullable = true)\n",
      " |-- 674: integer (nullable = true)\n",
      " |-- 675: integer (nullable = true)\n",
      " |-- 676: integer (nullable = true)\n",
      " |-- 677: integer (nullable = true)\n",
      " |-- 678: integer (nullable = true)\n",
      " |-- 679: integer (nullable = true)\n",
      " |-- 680: integer (nullable = true)\n",
      " |-- 681: integer (nullable = true)\n",
      " |-- 682: integer (nullable = true)\n",
      " |-- 683: integer (nullable = true)\n",
      " |-- 684: integer (nullable = true)\n",
      " |-- 685: integer (nullable = true)\n",
      " |-- 686: integer (nullable = true)\n",
      " |-- 687: integer (nullable = true)\n",
      " |-- 688: integer (nullable = true)\n",
      " |-- 689: integer (nullable = true)\n",
      " |-- 690: integer (nullable = true)\n",
      " |-- 691: integer (nullable = true)\n",
      " |-- 692: integer (nullable = true)\n",
      " |-- 693: integer (nullable = true)\n",
      " |-- 694: integer (nullable = true)\n",
      " |-- 695: integer (nullable = true)\n",
      " |-- 696: integer (nullable = true)\n",
      " |-- 697: integer (nullable = true)\n",
      " |-- 698: integer (nullable = true)\n",
      " |-- 699: integer (nullable = true)\n",
      " |-- 700: integer (nullable = true)\n",
      " |-- 701: integer (nullable = true)\n",
      " |-- 702: integer (nullable = true)\n",
      " |-- 703: integer (nullable = true)\n",
      " |-- 704: integer (nullable = true)\n",
      " |-- 705: integer (nullable = true)\n",
      " |-- 706: integer (nullable = true)\n",
      " |-- 707: integer (nullable = true)\n",
      " |-- 708: integer (nullable = true)\n",
      " |-- 709: integer (nullable = true)\n",
      " |-- 710: integer (nullable = true)\n",
      " |-- 711: integer (nullable = true)\n",
      " |-- 712: integer (nullable = true)\n",
      " |-- 713: integer (nullable = true)\n",
      " |-- 714: integer (nullable = true)\n",
      " |-- 715: integer (nullable = true)\n",
      " |-- 716: integer (nullable = true)\n",
      " |-- 717: integer (nullable = true)\n",
      " |-- 718: integer (nullable = true)\n",
      " |-- 719: integer (nullable = true)\n",
      " |-- 720: integer (nullable = true)\n",
      " |-- 721: integer (nullable = true)\n",
      " |-- 722: integer (nullable = true)\n",
      " |-- 723: integer (nullable = true)\n",
      " |-- 724: integer (nullable = true)\n",
      " |-- 725: integer (nullable = true)\n",
      " |-- 726: integer (nullable = true)\n",
      " |-- 727: integer (nullable = true)\n",
      " |-- 728: integer (nullable = true)\n",
      " |-- 729: integer (nullable = true)\n",
      " |-- 730: integer (nullable = true)\n",
      " |-- 731: integer (nullable = true)\n",
      " |-- 732: integer (nullable = true)\n",
      " |-- 733: integer (nullable = true)\n",
      " |-- 734: integer (nullable = true)\n",
      " |-- 735: integer (nullable = true)\n",
      " |-- 736: integer (nullable = true)\n",
      " |-- 737: integer (nullable = true)\n",
      " |-- 738: integer (nullable = true)\n",
      " |-- 739: integer (nullable = true)\n",
      " |-- 740: integer (nullable = true)\n",
      " |-- 741: integer (nullable = true)\n",
      " |-- 742: integer (nullable = true)\n",
      " |-- 743: integer (nullable = true)\n",
      " |-- 744: integer (nullable = true)\n",
      " |-- 745: integer (nullable = true)\n",
      " |-- 746: integer (nullable = true)\n",
      " |-- 747: integer (nullable = true)\n",
      " |-- 748: integer (nullable = true)\n",
      " |-- 749: integer (nullable = true)\n",
      " |-- 750: integer (nullable = true)\n",
      " |-- 751: integer (nullable = true)\n",
      " |-- 752: integer (nullable = true)\n",
      " |-- 753: integer (nullable = true)\n",
      " |-- 754: integer (nullable = true)\n",
      " |-- 755: integer (nullable = true)\n",
      " |-- 756: integer (nullable = true)\n",
      " |-- 757: integer (nullable = true)\n",
      " |-- 758: integer (nullable = true)\n",
      " |-- 759: integer (nullable = true)\n",
      " |-- 760: integer (nullable = true)\n",
      " |-- 761: integer (nullable = true)\n",
      " |-- 762: integer (nullable = true)\n",
      " |-- 763: integer (nullable = true)\n",
      " |-- 764: integer (nullable = true)\n",
      " |-- 765: integer (nullable = true)\n",
      " |-- 766: integer (nullable = true)\n",
      " |-- 767: integer (nullable = true)\n",
      " |-- 768: integer (nullable = true)\n",
      " |-- 769: integer (nullable = true)\n",
      " |-- 770: integer (nullable = true)\n",
      " |-- 771: integer (nullable = true)\n",
      " |-- 772: integer (nullable = true)\n",
      " |-- 773: integer (nullable = true)\n",
      " |-- 774: integer (nullable = true)\n",
      " |-- 775: integer (nullable = true)\n",
      " |-- 776: integer (nullable = true)\n",
      " |-- 777: integer (nullable = true)\n",
      " |-- 778: integer (nullable = true)\n",
      " |-- 779: integer (nullable = true)\n",
      " |-- 780: integer (nullable = true)\n",
      " |-- 781: integer (nullable = true)\n",
      " |-- 782: integer (nullable = true)\n",
      " |-- 783: integer (nullable = true)\n",
      " |-- vector: vector (nullable = true)\n",
      " |-- cluster_1: integer (nullable = true)\n",
      " |-- 785: integer (nullable = true)\n",
      " |-- 786: integer (nullable = true)\n",
      " |-- 787: integer (nullable = true)\n",
      " |-- 788: integer (nullable = true)\n",
      " |-- 789: integer (nullable = true)\n",
      " |-- 790: integer (nullable = true)\n",
      " |-- 791: integer (nullable = true)\n",
      " |-- 792: integer (nullable = true)\n",
      " |-- 793: integer (nullable = true)\n",
      " |-- 794: integer (nullable = true)\n",
      " |-- 795: integer (nullable = true)\n",
      " |-- 796: integer (nullable = true)\n",
      " |-- 797: integer (nullable = true)\n",
      " |-- 798: integer (nullable = true)\n",
      " |-- 799: integer (nullable = true)\n",
      " |-- 800: integer (nullable = true)\n",
      " |-- 801: integer (nullable = true)\n",
      " |-- 802: integer (nullable = true)\n",
      " |-- 803: integer (nullable = true)\n",
      " |-- 804: integer (nullable = true)\n",
      " |-- 805: integer (nullable = true)\n",
      " |-- 806: integer (nullable = true)\n",
      " |-- 807: integer (nullable = true)\n",
      " |-- 808: integer (nullable = true)\n",
      " |-- 809: integer (nullable = true)\n",
      " |-- 810: integer (nullable = true)\n",
      " |-- 811: integer (nullable = true)\n",
      " |-- 812: integer (nullable = true)\n",
      " |-- 813: integer (nullable = true)\n",
      " |-- 814: integer (nullable = true)\n",
      " |-- 815: integer (nullable = true)\n",
      " |-- 816: integer (nullable = true)\n",
      " |-- 817: integer (nullable = true)\n",
      " |-- 818: integer (nullable = true)\n",
      " |-- 819: integer (nullable = true)\n",
      " |-- 820: integer (nullable = true)\n",
      " |-- 821: integer (nullable = true)\n",
      " |-- 822: integer (nullable = true)\n",
      " |-- 823: integer (nullable = true)\n",
      " |-- 824: integer (nullable = true)\n",
      " |-- 825: integer (nullable = true)\n",
      " |-- 826: integer (nullable = true)\n",
      " |-- 827: integer (nullable = true)\n",
      " |-- 828: integer (nullable = true)\n",
      " |-- 829: integer (nullable = true)\n",
      " |-- 830: integer (nullable = true)\n",
      " |-- 831: integer (nullable = true)\n",
      " |-- 832: integer (nullable = true)\n",
      " |-- 833: integer (nullable = true)\n",
      " |-- 834: integer (nullable = true)\n",
      " |-- 835: integer (nullable = true)\n",
      " |-- 836: integer (nullable = true)\n",
      " |-- 837: integer (nullable = true)\n",
      " |-- 838: integer (nullable = true)\n",
      " |-- 839: integer (nullable = true)\n",
      " |-- 840: integer (nullable = true)\n",
      " |-- 841: integer (nullable = true)\n",
      " |-- 842: integer (nullable = true)\n",
      " |-- 843: integer (nullable = true)\n",
      " |-- 844: integer (nullable = true)\n",
      " |-- 845: integer (nullable = true)\n",
      " |-- 846: integer (nullable = true)\n",
      " |-- 847: integer (nullable = true)\n",
      " |-- 848: integer (nullable = true)\n",
      " |-- 849: integer (nullable = true)\n",
      " |-- 850: integer (nullable = true)\n",
      " |-- 851: integer (nullable = true)\n",
      " |-- 852: integer (nullable = true)\n",
      " |-- 853: integer (nullable = true)\n",
      " |-- 854: integer (nullable = true)\n",
      " |-- 855: integer (nullable = true)\n",
      " |-- 856: integer (nullable = true)\n",
      " |-- 857: integer (nullable = true)\n",
      " |-- 858: integer (nullable = true)\n",
      " |-- 859: integer (nullable = true)\n",
      " |-- 860: integer (nullable = true)\n",
      " |-- 861: integer (nullable = true)\n",
      " |-- 862: integer (nullable = true)\n",
      " |-- 863: integer (nullable = true)\n",
      " |-- 864: integer (nullable = true)\n",
      " |-- 865: integer (nullable = true)\n",
      " |-- 866: integer (nullable = true)\n",
      " |-- 867: integer (nullable = true)\n",
      " |-- 868: integer (nullable = true)\n",
      " |-- 869: integer (nullable = true)\n",
      " |-- 870: integer (nullable = true)\n",
      " |-- 871: integer (nullable = true)\n",
      " |-- 872: integer (nullable = true)\n",
      " |-- 873: integer (nullable = true)\n",
      " |-- 874: integer (nullable = true)\n",
      " |-- 875: integer (nullable = true)\n",
      " |-- 876: integer (nullable = true)\n",
      " |-- 877: integer (nullable = true)\n",
      " |-- 878: integer (nullable = true)\n",
      " |-- 879: integer (nullable = true)\n",
      " |-- 880: integer (nullable = true)\n",
      " |-- 881: integer (nullable = true)\n",
      " |-- 882: integer (nullable = true)\n",
      " |-- 883: integer (nullable = true)\n",
      " |-- 884: integer (nullable = true)\n",
      " |-- 885: integer (nullable = true)\n",
      " |-- 886: integer (nullable = true)\n",
      " |-- 887: integer (nullable = true)\n",
      " |-- 888: integer (nullable = true)\n",
      " |-- 889: integer (nullable = true)\n",
      " |-- 890: integer (nullable = true)\n",
      " |-- 891: integer (nullable = true)\n",
      " |-- 892: integer (nullable = true)\n",
      " |-- 893: integer (nullable = true)\n",
      " |-- 894: integer (nullable = true)\n",
      " |-- 895: integer (nullable = true)\n",
      "\n"
     ]
    }
   ],
   "source": [
    "for i in range(785,896):\n",
    "    i=str(i)\n",
    "    model_train=model_train.withColumn(i, model_train[\"cluster_1\"])\n",
    "model_train.printSchema()"
   ]
  },
  {
   "cell_type": "code",
   "execution_count": 24,
   "metadata": {},
   "outputs": [],
   "source": [
    "model_train=model_train.drop(\"vector\")"
   ]
  },
  {
   "cell_type": "code",
   "execution_count": null,
   "metadata": {},
   "outputs": [],
   "source": []
  },
  {
   "cell_type": "code",
   "execution_count": null,
   "metadata": {},
   "outputs": [],
   "source": []
  },
  {
   "cell_type": "code",
   "execution_count": null,
   "metadata": {},
   "outputs": [],
   "source": []
  },
  {
   "cell_type": "code",
   "execution_count": null,
   "metadata": {},
   "outputs": [],
   "source": []
  },
  {
   "cell_type": "code",
   "execution_count": null,
   "metadata": {},
   "outputs": [],
   "source": []
  },
  {
   "cell_type": "code",
   "execution_count": null,
   "metadata": {},
   "outputs": [],
   "source": []
  },
  {
   "cell_type": "code",
   "execution_count": null,
   "metadata": {},
   "outputs": [],
   "source": []
  },
  {
   "cell_type": "code",
   "execution_count": null,
   "metadata": {},
   "outputs": [],
   "source": []
  },
  {
   "cell_type": "code",
   "execution_count": null,
   "metadata": {},
   "outputs": [],
   "source": []
  },
  {
   "cell_type": "code",
   "execution_count": null,
   "metadata": {},
   "outputs": [],
   "source": []
  },
  {
   "cell_type": "code",
   "execution_count": null,
   "metadata": {},
   "outputs": [],
   "source": []
  },
  {
   "cell_type": "code",
   "execution_count": null,
   "metadata": {},
   "outputs": [],
   "source": []
  },
  {
   "cell_type": "code",
   "execution_count": null,
   "metadata": {},
   "outputs": [],
   "source": []
  },
  {
   "cell_type": "code",
   "execution_count": null,
   "metadata": {},
   "outputs": [],
   "source": []
  },
  {
   "cell_type": "code",
   "execution_count": null,
   "metadata": {},
   "outputs": [],
   "source": []
  },
  {
   "cell_type": "code",
   "execution_count": null,
   "metadata": {},
   "outputs": [],
   "source": []
  },
  {
   "cell_type": "code",
   "execution_count": null,
   "metadata": {},
   "outputs": [],
   "source": []
  },
  {
   "cell_type": "code",
   "execution_count": null,
   "metadata": {},
   "outputs": [],
   "source": []
  },
  {
   "cell_type": "code",
   "execution_count": null,
   "metadata": {},
   "outputs": [],
   "source": []
  },
  {
   "cell_type": "code",
   "execution_count": null,
   "metadata": {},
   "outputs": [],
   "source": []
  },
  {
   "cell_type": "code",
   "execution_count": null,
   "metadata": {},
   "outputs": [],
   "source": []
  },
  {
   "cell_type": "code",
   "execution_count": null,
   "metadata": {},
   "outputs": [],
   "source": []
  },
  {
   "cell_type": "code",
   "execution_count": null,
   "metadata": {},
   "outputs": [],
   "source": []
  },
  {
   "cell_type": "code",
   "execution_count": null,
   "metadata": {},
   "outputs": [],
   "source": []
  },
  {
   "cell_type": "code",
   "execution_count": null,
   "metadata": {},
   "outputs": [],
   "source": []
  },
  {
   "cell_type": "code",
   "execution_count": null,
   "metadata": {},
   "outputs": [],
   "source": []
  },
  {
   "cell_type": "code",
   "execution_count": null,
   "metadata": {},
   "outputs": [],
   "source": []
  },
  {
   "cell_type": "code",
   "execution_count": null,
   "metadata": {},
   "outputs": [],
   "source": []
  },
  {
   "cell_type": "code",
   "execution_count": null,
   "metadata": {},
   "outputs": [],
   "source": []
  },
  {
   "cell_type": "code",
   "execution_count": null,
   "metadata": {},
   "outputs": [],
   "source": []
  },
  {
   "cell_type": "code",
   "execution_count": null,
   "metadata": {},
   "outputs": [],
   "source": []
  },
  {
   "cell_type": "code",
   "execution_count": null,
   "metadata": {},
   "outputs": [],
   "source": []
  },
  {
   "cell_type": "code",
   "execution_count": null,
   "metadata": {},
   "outputs": [],
   "source": []
  },
  {
   "cell_type": "code",
   "execution_count": null,
   "metadata": {},
   "outputs": [],
   "source": []
  },
  {
   "cell_type": "code",
   "execution_count": null,
   "metadata": {},
   "outputs": [],
   "source": []
  },
  {
   "cell_type": "code",
   "execution_count": null,
   "metadata": {},
   "outputs": [],
   "source": []
  },
  {
   "cell_type": "code",
   "execution_count": null,
   "metadata": {},
   "outputs": [],
   "source": []
  },
  {
   "cell_type": "code",
   "execution_count": null,
   "metadata": {},
   "outputs": [],
   "source": []
  },
  {
   "cell_type": "code",
   "execution_count": 25,
   "metadata": {},
   "outputs": [],
   "source": [
    "model_train = model_train.toPandas()"
   ]
  },
  {
   "cell_type": "code",
   "execution_count": 26,
   "metadata": {},
   "outputs": [],
   "source": [
    "model_train.to_csv(\"train2.csv\")"
   ]
  },
  {
   "cell_type": "code",
   "execution_count": 27,
   "metadata": {},
   "outputs": [],
   "source": [
    "model_train = model_train.values"
   ]
  },
  {
   "cell_type": "code",
   "execution_count": 28,
   "metadata": {},
   "outputs": [
    {
     "data": {
      "text/plain": [
       "(60000, 896)"
      ]
     },
     "execution_count": 28,
     "metadata": {},
     "output_type": "execute_result"
    }
   ],
   "source": [
    "model_train.shape"
   ]
  },
  {
   "cell_type": "code",
   "execution_count": 29,
   "metadata": {},
   "outputs": [],
   "source": [
    "model_train1 = model_train.reshape(60000,32,28)"
   ]
  },
  {
   "cell_type": "code",
   "execution_count": 30,
   "metadata": {},
   "outputs": [
    {
     "data": {
      "image/png": "[encoded data removed]",
      "text/plain": [
       "<Figure size 2880x2880 with 10 Axes>"
      ]
     },
     "metadata": {
      "needs_background": "light"
     },
     "output_type": "display_data"
    }
   ],
   "source": [
    "def display_image(data, nrows, ncols, index):\n",
    "    plt.subplot(nrows, ncols, index)    \n",
    "    plt.imshow(data, cmap='plasma')\n",
    "ncols = 10\n",
    "plt.figure(figsize=(40,40))\n",
    "for i in range(ncols):\n",
    "    display_image(model_train1[i], 1, ncols, i+1)            "
   ]
  },
  {
   "cell_type": "code",
   "execution_count": null,
   "metadata": {},
   "outputs": [],
   "source": []
  },
  {
   "cell_type": "code",
   "execution_count": 31,
   "metadata": {},
   "outputs": [],
   "source": [
    "df_test=spark.read.format(\"com.databricks.spark.csv\").option(\"header\",\"true\").load(\"test.csv\")\n",
    "df_test=df_test.drop('_c0')"
   ]
  },
  {
   "cell_type": "code",
   "execution_count": 32,
   "metadata": {},
   "outputs": [],
   "source": [
    "for i in range(0,784):\n",
    "    y=str(i)\n",
    "    df_test=df_test.withColumn(y, df_test[y].cast('int'))\n"
   ]
  },
  {
   "cell_type": "code",
   "execution_count": 33,
   "metadata": {},
   "outputs": [],
   "source": [
    "cols_test = list(set(df_test.columns))\n",
    "assembler_test = VectorAssembler(\n",
    "    inputCols=cols_test,\n",
    "    outputCol=\"vector\")"
   ]
  },
  {
   "cell_type": "code",
   "execution_count": 34,
   "metadata": {},
   "outputs": [],
   "source": [
    "output_test = assembler_test.transform(df_test)"
   ]
  },
  {
   "cell_type": "code",
   "execution_count": 35,
   "metadata": {},
   "outputs": [],
   "source": [
    "model_test=model.transform(output_test)"
   ]
  },
  {
   "cell_type": "code",
   "execution_count": 36,
   "metadata": {},
   "outputs": [],
   "source": [
    "model_test.createOrReplaceTempView(\"adding_test\")"
   ]
  },
  {
   "cell_type": "code",
   "execution_count": 37,
   "metadata": {},
   "outputs": [],
   "source": [
    "model_test = spark.sql(\"select *, CASE WHEN cluster=0 THEN cluster+25 WHEN cluster=1 THEN cluster+50 WHEN cluster=2 THEN cluster+75 WHEN cluster=3 THEN cluster+100 WHEN cluster=4 THEN cluster+125 WHEN cluster=5 THEN cluster+150 WHEN cluster=6 THEN cluster+175 WHEN cluster=7 THEN cluster+200 WHEN cluster=8 THEN cluster+225 WHEN cluster=9 THEN cluster+250 END cluster_1 from adding_test\")"
   ]
  },
  {
   "cell_type": "code",
   "execution_count": 38,
   "metadata": {},
   "outputs": [],
   "source": [
    "model_test = model_test.drop(\"cluster\")"
   ]
  },
  {
   "cell_type": "code",
   "execution_count": 39,
   "metadata": {},
   "outputs": [],
   "source": [
    "for i in range(785,896):\n",
    "    i=str(i)\n",
    "    model_test=model_test.withColumn(i, model_test[\"cluster_1\"])"
   ]
  },
  {
   "cell_type": "code",
   "execution_count": 40,
   "metadata": {},
   "outputs": [],
   "source": [
    "model_test=model_test.drop(\"vector\")"
   ]
  },
  {
   "cell_type": "code",
   "execution_count": 41,
   "metadata": {},
   "outputs": [],
   "source": [
    "model_test = model_test.toPandas()"
   ]
  },
  {
   "cell_type": "code",
   "execution_count": 42,
   "metadata": {},
   "outputs": [],
   "source": [
    "model_test.to_csv(\"test2.csv\")"
   ]
  },
  {
   "cell_type": "code",
   "execution_count": 43,
   "metadata": {},
   "outputs": [],
   "source": [
    "model_test = model_test.values"
   ]
  },
  {
   "cell_type": "code",
   "execution_count": 44,
   "metadata": {},
   "outputs": [
    {
     "data": {
      "text/plain": [
       "(10000, 896)"
      ]
     },
     "execution_count": 44,
     "metadata": {},
     "output_type": "execute_result"
    }
   ],
   "source": [
    "model_test.shape"
   ]
  },
  {
   "cell_type": "code",
   "execution_count": 45,
   "metadata": {},
   "outputs": [],
   "source": [
    "x_train=model_train\n",
    "x_test=model_test"
   ]
  },
  {
   "cell_type": "code",
   "execution_count": 46,
   "metadata": {},
   "outputs": [],
   "source": [
    "if K.image_data_format() == 'channels_first':\n",
    "    x_train = x_train.reshape(x_train.shape[0], 1, img_rows, img_cols)\n",
    "    x_test = x_test.reshape(x_test.shape[0], 1, img_rows, img_cols)\n",
    "    input_shape = (1, img_rows, img_cols)\n",
    "else:\n",
    "    x_train = x_train.reshape(x_train.shape[0], img_rows, img_cols, 1)\n",
    "    x_test = x_test.reshape(x_test.shape[0], img_rows, img_cols, 1)\n",
    "    input_shape = (img_rows, img_cols, 1)"
   ]
  },
  {
   "cell_type": "code",
   "execution_count": 47,
   "metadata": {},
   "outputs": [
    {
     "data": {
      "text/plain": [
       "(32, 28, 1)"
      ]
     },
     "execution_count": 47,
     "metadata": {},
     "output_type": "execute_result"
    }
   ],
   "source": [
    "input_shape"
   ]
  },
  {
   "cell_type": "code",
   "execution_count": 48,
   "metadata": {},
   "outputs": [],
   "source": [
    "x_train = x_train.astype('float32')\n",
    "x_test = x_test.astype('float32')\n",
    "x_train /= 255\n",
    "x_test /= 255"
   ]
  },
  {
   "cell_type": "code",
   "execution_count": 55,
   "metadata": {},
   "outputs": [],
   "source": [
    "y_train = keras.utils.to_categorical(y_train, num_classes)\n",
    "\n",
    "y_test = keras.utils.to_categorical(y_test, num_classes)"
   ]
  },
  {
   "cell_type": "code",
   "execution_count": 67,
   "metadata": {},
   "outputs": [],
   "source": [
    "model = Sequential()\n",
    "\n",
    "model.add(Conv2D(16, kernel_size=(3, 3),\n",
    "                 activation='relu',\n",
    "                 input_shape=input_shape))\n",
    "\n",
    "\n",
    "model.add(Conv2D(32, (3, 3), activation='relu'))\n",
    "#model.add(Conv2D(64, (3, 3), activation='relu'))\n",
    "\n",
    "model.add(MaxPooling2D(pool_size=(2, 2)))\n",
    "\n",
    "model.add(Dropout(0.25))\n",
    "\n",
    "model.add(Conv2D(16, (3, 3), activation='relu'))\n",
    "\n",
    "\n",
    "model.add(MaxPooling2D(pool_size=(2, 2)))\n",
    "\n",
    "model.add(Dropout(0.25))\n",
    "\n",
    "model.add(Flatten())\n",
    "\n",
    "model.add(Dense(10, activation='relu'))  #fully-connected layer 1\n",
    "\n",
    "model.add(Dropout(0.25))\n",
    "\n",
    "model.add(Dense(10, activation='relu'))  #fully-connected layer 1\n",
    "\n",
    "#model.add(Dropout(0.25))\n",
    "\n",
    "model.add(Dense(10, activation='relu'))  #fully-connected layer 2\n",
    "\n",
    "model.add(Dropout(0.25))\n",
    "\n",
    "model.add(Dense(num_classes, activation='softmax')) # OUTPUT"
   ]
  },
  {
   "cell_type": "code",
   "execution_count": 68,
   "metadata": {},
   "outputs": [
    {
     "name": "stdout",
     "output_type": "stream",
     "text": [
      "_________________________________________________________________\n",
      "Layer (type)                 Output Shape              Param #   \n",
      "=================================================================\n",
      "conv2d_8 (Conv2D)            (None, 30, 26, 16)        160       \n",
      "_________________________________________________________________\n",
      "conv2d_9 (Conv2D)            (None, 28, 24, 32)        4640      \n",
      "_________________________________________________________________\n",
      "max_pooling2d_5 (MaxPooling2 (None, 14, 12, 32)        0         \n",
      "_________________________________________________________________\n",
      "dropout_10 (Dropout)         (None, 14, 12, 32)        0         \n",
      "_________________________________________________________________\n",
      "conv2d_10 (Conv2D)           (None, 12, 10, 16)        4624      \n",
      "_________________________________________________________________\n",
      "max_pooling2d_6 (MaxPooling2 (None, 6, 5, 16)          0         \n",
      "_________________________________________________________________\n",
      "dropout_11 (Dropout)         (None, 6, 5, 16)          0         \n",
      "_________________________________________________________________\n",
      "flatten_3 (Flatten)          (None, 480)               0         \n",
      "_________________________________________________________________\n",
      "dense_8 (Dense)              (None, 10)                4810      \n",
      "_________________________________________________________________\n",
      "dropout_12 (Dropout)         (None, 10)                0         \n",
      "_________________________________________________________________\n",
      "dense_9 (Dense)              (None, 10)                110       \n",
      "_________________________________________________________________\n",
      "dense_10 (Dense)             (None, 10)                110       \n",
      "_________________________________________________________________\n",
      "dropout_13 (Dropout)         (None, 10)                0         \n",
      "_________________________________________________________________\n",
      "dense_11 (Dense)             (None, 10)                110       \n",
      "=================================================================\n",
      "Total params: 14,564\n",
      "Trainable params: 14,564\n",
      "Non-trainable params: 0\n",
      "_________________________________________________________________\n"
     ]
    }
   ],
   "source": [
    "model.summary()"
   ]
  },
  {
   "cell_type": "code",
   "execution_count": 69,
   "metadata": {},
   "outputs": [],
   "source": [
    "model.compile(loss=keras.losses.categorical_crossentropy,\n",
    "              optimizer=keras.optimizers.SGD(lr=0.20, momentum=0.01, decay=0.005),    \n",
    "              metrics=['accuracy'])"
   ]
  },
  {
   "cell_type": "code",
   "execution_count": 70,
   "metadata": {},
   "outputs": [
    {
     "name": "stdout",
     "output_type": "stream",
     "text": [
      "Train on 60000 samples, validate on 10000 samples\n",
      "Epoch 1/15\n",
      "60000/60000 [==============================] - 76s 1ms/step - loss: 1.7503 - acc: 0.3409 - val_loss: 1.0931 - val_acc: 0.5976\n",
      "Epoch 2/15\n",
      "60000/60000 [==============================] - 52s 861us/step - loss: 1.2513 - acc: 0.5266 - val_loss: 0.8865 - val_acc: 0.6889\n",
      "Epoch 3/15\n",
      "60000/60000 [==============================] - 52s 866us/step - loss: 1.1391 - acc: 0.5645 - val_loss: 0.8191 - val_acc: 0.7085\n",
      "Epoch 4/15\n",
      "60000/60000 [==============================] - 53s 877us/step - loss: 1.0922 - acc: 0.5776 - val_loss: 0.7683 - val_acc: 0.7147\n",
      "Epoch 5/15\n",
      "60000/60000 [==============================] - 72s 1ms/step - loss: 1.0651 - acc: 0.5865 - val_loss: 0.7575 - val_acc: 0.7026\n",
      "Epoch 6/15\n",
      "60000/60000 [==============================] - 93s 2ms/step - loss: 1.0555 - acc: 0.5908 - val_loss: 0.7255 - val_acc: 0.7272\n",
      "Epoch 7/15\n",
      "60000/60000 [==============================] - 93s 2ms/step - loss: 1.0298 - acc: 0.6004 - val_loss: 0.7182 - val_acc: 0.7302\n",
      "Epoch 8/15\n",
      "60000/60000 [==============================] - 95s 2ms/step - loss: 1.0285 - acc: 0.6007 - val_loss: 0.7001 - val_acc: 0.7336\n",
      "Epoch 9/15\n",
      "60000/60000 [==============================] - 101s 2ms/step - loss: 1.0136 - acc: 0.6057 - val_loss: 0.6905 - val_acc: 0.7365\n",
      "Epoch 10/15\n",
      "60000/60000 [==============================] - 109s 2ms/step - loss: 1.0078 - acc: 0.6097 - val_loss: 0.6956 - val_acc: 0.7314\n",
      "Epoch 11/15\n",
      "46592/60000 [======================>.......] - ETA: 22s - loss: 0.9973 - acc: 0.6161"
     ]
    },
    {
     "ename": "KeyboardInterrupt",
     "evalue": "",
     "output_type": "error",
     "traceback": [
      "\u001b[0;31m---------------------------------------------------------------------------\u001b[0m",
      "\u001b[0;31mKeyboardInterrupt\u001b[0m                         Traceback (most recent call last)",
      "\u001b[0;32m<timed exec>\u001b[0m in \u001b[0;36m<module>\u001b[0;34m()\u001b[0m\n",
      "\u001b[0;32m/anaconda3/lib/python3.5/site-packages/keras/engine/training.py\u001b[0m in \u001b[0;36mfit\u001b[0;34m(self, x, y, batch_size, epochs, verbose, callbacks, validation_split, validation_data, shuffle, class_weight, sample_weight, initial_epoch, steps_per_epoch, validation_steps, **kwargs)\u001b[0m\n\u001b[1;32m   1037\u001b[0m                                         \u001b[0minitial_epoch\u001b[0m\u001b[0;34m=\u001b[0m\u001b[0minitial_epoch\u001b[0m\u001b[0;34m,\u001b[0m\u001b[0;34m\u001b[0m\u001b[0m\n\u001b[1;32m   1038\u001b[0m                                         \u001b[0msteps_per_epoch\u001b[0m\u001b[0;34m=\u001b[0m\u001b[0msteps_per_epoch\u001b[0m\u001b[0;34m,\u001b[0m\u001b[0;34m\u001b[0m\u001b[0m\n\u001b[0;32m-> 1039\u001b[0;31m                                         validation_steps=validation_steps)\n\u001b[0m\u001b[1;32m   1040\u001b[0m \u001b[0;34m\u001b[0m\u001b[0m\n\u001b[1;32m   1041\u001b[0m     def evaluate(self, x=None, y=None,\n",
      "\u001b[0;32m/anaconda3/lib/python3.5/site-packages/keras/engine/training_arrays.py\u001b[0m in \u001b[0;36mfit_loop\u001b[0;34m(model, f, ins, out_labels, batch_size, epochs, verbose, callbacks, val_f, val_ins, shuffle, callback_metrics, initial_epoch, steps_per_epoch, validation_steps)\u001b[0m\n\u001b[1;32m    197\u001b[0m                     \u001b[0mins_batch\u001b[0m\u001b[0;34m[\u001b[0m\u001b[0mi\u001b[0m\u001b[0;34m]\u001b[0m \u001b[0;34m=\u001b[0m \u001b[0mins_batch\u001b[0m\u001b[0;34m[\u001b[0m\u001b[0mi\u001b[0m\u001b[0;34m]\u001b[0m\u001b[0;34m.\u001b[0m\u001b[0mtoarray\u001b[0m\u001b[0;34m(\u001b[0m\u001b[0;34m)\u001b[0m\u001b[0;34m\u001b[0m\u001b[0m\n\u001b[1;32m    198\u001b[0m \u001b[0;34m\u001b[0m\u001b[0m\n\u001b[0;32m--> 199\u001b[0;31m                 \u001b[0mouts\u001b[0m \u001b[0;34m=\u001b[0m \u001b[0mf\u001b[0m\u001b[0;34m(\u001b[0m\u001b[0mins_batch\u001b[0m\u001b[0;34m)\u001b[0m\u001b[0;34m\u001b[0m\u001b[0m\n\u001b[0m\u001b[1;32m    200\u001b[0m                 \u001b[0mouts\u001b[0m \u001b[0;34m=\u001b[0m \u001b[0mto_list\u001b[0m\u001b[0;34m(\u001b[0m\u001b[0mouts\u001b[0m\u001b[0;34m)\u001b[0m\u001b[0;34m\u001b[0m\u001b[0m\n\u001b[1;32m    201\u001b[0m                 \u001b[0;32mfor\u001b[0m \u001b[0ml\u001b[0m\u001b[0;34m,\u001b[0m \u001b[0mo\u001b[0m \u001b[0;32min\u001b[0m \u001b[0mzip\u001b[0m\u001b[0;34m(\u001b[0m\u001b[0mout_labels\u001b[0m\u001b[0;34m,\u001b[0m \u001b[0mouts\u001b[0m\u001b[0;34m)\u001b[0m\u001b[0;34m:\u001b[0m\u001b[0;34m\u001b[0m\u001b[0m\n",
      "\u001b[0;32m/anaconda3/lib/python3.5/site-packages/keras/backend/tensorflow_backend.py\u001b[0m in \u001b[0;36m__call__\u001b[0;34m(self, inputs)\u001b[0m\n\u001b[1;32m   2713\u001b[0m                 \u001b[0;32mreturn\u001b[0m \u001b[0mself\u001b[0m\u001b[0;34m.\u001b[0m\u001b[0m_legacy_call\u001b[0m\u001b[0;34m(\u001b[0m\u001b[0minputs\u001b[0m\u001b[0;34m)\u001b[0m\u001b[0;34m\u001b[0m\u001b[0m\n\u001b[1;32m   2714\u001b[0m \u001b[0;34m\u001b[0m\u001b[0m\n\u001b[0;32m-> 2715\u001b[0;31m             \u001b[0;32mreturn\u001b[0m \u001b[0mself\u001b[0m\u001b[0;34m.\u001b[0m\u001b[0m_call\u001b[0m\u001b[0;34m(\u001b[0m\u001b[0minputs\u001b[0m\u001b[0;34m)\u001b[0m\u001b[0;34m\u001b[0m\u001b[0m\n\u001b[0m\u001b[1;32m   2716\u001b[0m         \u001b[0;32melse\u001b[0m\u001b[0;34m:\u001b[0m\u001b[0;34m\u001b[0m\u001b[0m\n\u001b[1;32m   2717\u001b[0m             \u001b[0;32mif\u001b[0m \u001b[0mpy_any\u001b[0m\u001b[0;34m(\u001b[0m\u001b[0mis_tensor\u001b[0m\u001b[0;34m(\u001b[0m\u001b[0mx\u001b[0m\u001b[0;34m)\u001b[0m \u001b[0;32mfor\u001b[0m \u001b[0mx\u001b[0m \u001b[0;32min\u001b[0m \u001b[0minputs\u001b[0m\u001b[0;34m)\u001b[0m\u001b[0;34m:\u001b[0m\u001b[0;34m\u001b[0m\u001b[0m\n",
      "\u001b[0;32m/anaconda3/lib/python3.5/site-packages/keras/backend/tensorflow_backend.py\u001b[0m in \u001b[0;36m_call\u001b[0;34m(self, inputs)\u001b[0m\n\u001b[1;32m   2673\u001b[0m             \u001b[0mfetched\u001b[0m \u001b[0;34m=\u001b[0m \u001b[0mself\u001b[0m\u001b[0;34m.\u001b[0m\u001b[0m_callable_fn\u001b[0m\u001b[0;34m(\u001b[0m\u001b[0;34m*\u001b[0m\u001b[0marray_vals\u001b[0m\u001b[0;34m,\u001b[0m \u001b[0mrun_metadata\u001b[0m\u001b[0;34m=\u001b[0m\u001b[0mself\u001b[0m\u001b[0;34m.\u001b[0m\u001b[0mrun_metadata\u001b[0m\u001b[0;34m)\u001b[0m\u001b[0;34m\u001b[0m\u001b[0m\n\u001b[1;32m   2674\u001b[0m         \u001b[0;32melse\u001b[0m\u001b[0;34m:\u001b[0m\u001b[0;34m\u001b[0m\u001b[0m\n\u001b[0;32m-> 2675\u001b[0;31m             \u001b[0mfetched\u001b[0m \u001b[0;34m=\u001b[0m \u001b[0mself\u001b[0m\u001b[0;34m.\u001b[0m\u001b[0m_callable_fn\u001b[0m\u001b[0;34m(\u001b[0m\u001b[0;34m*\u001b[0m\u001b[0marray_vals\u001b[0m\u001b[0;34m)\u001b[0m\u001b[0;34m\u001b[0m\u001b[0m\n\u001b[0m\u001b[1;32m   2676\u001b[0m         \u001b[0;32mreturn\u001b[0m \u001b[0mfetched\u001b[0m\u001b[0;34m[\u001b[0m\u001b[0;34m:\u001b[0m\u001b[0mlen\u001b[0m\u001b[0;34m(\u001b[0m\u001b[0mself\u001b[0m\u001b[0;34m.\u001b[0m\u001b[0moutputs\u001b[0m\u001b[0;34m)\u001b[0m\u001b[0;34m]\u001b[0m\u001b[0;34m\u001b[0m\u001b[0m\n\u001b[1;32m   2677\u001b[0m \u001b[0;34m\u001b[0m\u001b[0m\n",
      "\u001b[0;32m/anaconda3/lib/python3.5/site-packages/tensorflow/python/client/session.py\u001b[0m in \u001b[0;36m__call__\u001b[0;34m(self, *args, **kwargs)\u001b[0m\n\u001b[1;32m   1380\u001b[0m           ret = tf_session.TF_SessionRunCallable(\n\u001b[1;32m   1381\u001b[0m               \u001b[0mself\u001b[0m\u001b[0;34m.\u001b[0m\u001b[0m_session\u001b[0m\u001b[0;34m.\u001b[0m\u001b[0m_session\u001b[0m\u001b[0;34m,\u001b[0m \u001b[0mself\u001b[0m\u001b[0;34m.\u001b[0m\u001b[0m_handle\u001b[0m\u001b[0;34m,\u001b[0m \u001b[0margs\u001b[0m\u001b[0;34m,\u001b[0m \u001b[0mstatus\u001b[0m\u001b[0;34m,\u001b[0m\u001b[0;34m\u001b[0m\u001b[0m\n\u001b[0;32m-> 1382\u001b[0;31m               run_metadata_ptr)\n\u001b[0m\u001b[1;32m   1383\u001b[0m         \u001b[0;32mif\u001b[0m \u001b[0mrun_metadata\u001b[0m\u001b[0;34m:\u001b[0m\u001b[0;34m\u001b[0m\u001b[0m\n\u001b[1;32m   1384\u001b[0m           \u001b[0mproto_data\u001b[0m \u001b[0;34m=\u001b[0m \u001b[0mtf_session\u001b[0m\u001b[0;34m.\u001b[0m\u001b[0mTF_GetBuffer\u001b[0m\u001b[0;34m(\u001b[0m\u001b[0mrun_metadata_ptr\u001b[0m\u001b[0;34m)\u001b[0m\u001b[0;34m\u001b[0m\u001b[0m\n",
      "\u001b[0;31mKeyboardInterrupt\u001b[0m: "
     ]
    }
   ],
   "source": [
    "%%time\n",
    "\n",
    "training=model.fit(x_train, y_train,\n",
    "          batch_size=batch_size,\n",
    "          epochs=epochs,\n",
    "          verbose=1,\n",
    "          validation_data=(x_test, y_test))"
   ]
  },
  {
   "cell_type": "code",
   "execution_count": 60,
   "metadata": {},
   "outputs": [
    {
     "name": "stdout",
     "output_type": "stream",
     "text": [
      "10000/10000 [==============================] - 3s 287us/step\n",
      "Test loss: 0.7593479789733887\n",
      "Test accuracy: 0.712\n"
     ]
    }
   ],
   "source": [
    "score = model.evaluate(x_test, y_test, verbose=1)\n",
    "\n",
    "print('Test loss:', score[0])\n",
    "\n",
    "print('Test accuracy:', score[1])"
   ]
  },
  {
   "cell_type": "code",
   "execution_count": null,
   "metadata": {},
   "outputs": [],
   "source": []
  },
  {
   "cell_type": "code",
   "execution_count": null,
   "metadata": {},
   "outputs": [],
   "source": []
  },
  {
   "cell_type": "code",
   "execution_count": null,
   "metadata": {},
   "outputs": [],
   "source": []
  },
  {
   "cell_type": "code",
   "execution_count": null,
   "metadata": {},
   "outputs": [],
   "source": []
  }
 ],
 "metadata": {
  "kernelspec": {
   "display_name": "Python 3",
   "language": "python",
   "name": "python3"
  },
  "language_info": {
   "codemirror_mode": {
    "name": "ipython",
    "version": 3
   },
   "file_extension": ".py",
   "mimetype": "text/x-python",
   "name": "python",
   "nbconvert_exporter": "python",
   "pygments_lexer": "ipython3",
   "version": "3.5.5"
  }
 },
 "nbformat": 4,
 "nbformat_minor": 2
}
